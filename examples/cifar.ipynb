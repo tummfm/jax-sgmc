{
 "cells": [
  {
   "cell_type": "raw",
   "metadata": {
    "collapsed": false
   },
   "source": [
    "---\n",
    "Copyright 2021 Multiscale Modeling of Fluid Materials, TU Munich\n",
    "\n",
    "Licensed under the Apache License, Version 2.0 (the \"License\");\n",
    "you may not use this file except in compliance with the License.\n",
    "You may obtain a copy of the License at\n",
    "\n",
    "  http://www.apache.org/licenses/LICENSE-2.0\n",
    "\n",
    "Unless required by applicable law or agreed to in writing, software\n",
    "distributed under the License is distributed on an \"AS IS\" BASIS,\n",
    "WITHOUT WARRANTIES OR CONDITIONS OF ANY KIND, either express or implied.\n",
    "See the License for the specific language governing permissions and\n",
    "limitations under the License.\n",
    "---"
   ]
  },
  {
   "cell_type": "markdown",
   "metadata": {
    "collapsed": false
   },
   "source": [
    "# Image Classification on CIFAR-10\n",
    "\n",
    "In this example we will show how _JaxSGMC_ can be used to set up and train a \n",
    "neural network. The objective is to perform image classification on the dataset \n",
    "[CIFAR10](https://www.cs.toronto.edu/~kriz/cifar.html) which consists of 60000 \n",
    "32x32 images. We will use the [MobileNet](https://arxiv.org/abs/1704.04861) \n",
    "architecture implemented by [Haiku](https://github.com/deepmind/dm-haiku)."
   ]
  },
  {
   "cell_type": "code",
   "execution_count": 1,
   "metadata": {
    "collapsed": false,
    "execution": {
     "iopub.execute_input": "2023-06-14T05:25:05.876761Z",
     "iopub.status.busy": "2023-06-14T05:25:05.876179Z",
     "iopub.status.idle": "2023-06-14T05:25:07.890147Z",
     "shell.execute_reply": "2023-06-14T05:25:07.889674Z"
    },
    "tags": [
     "hide-cell"
    ]
   },
   "outputs": [],
   "source": [
    "import os\n",
    "import warnings\n",
    "\n",
    "warnings.filterwarnings(\"ignore\", category=FutureWarning)\n",
    "\n",
    "from jax import jit, random, numpy as jnp, scipy as jscipy, tree_map\n",
    "from jax_sgmc import data, potential, alias\n",
    "from jax_sgmc.data.numpy_loader import NumpyDataLoader\n",
    "import tensorflow as tf\n",
    "import haiku as hk\n",
    "import optax\n",
    "import tree_math\n",
    "from functools import partial\n",
    "import numpy as onp\n",
    "import matplotlib.pyplot as plt"
   ]
  },
  {
   "cell_type": "markdown",
   "metadata": {
    "collapsed": false
   },
   "source": [
    "We set a seed for each library where we will use stochastic functionalities."
   ]
  },
  {
   "cell_type": "code",
   "execution_count": 2,
   "metadata": {
    "collapsed": false,
    "execution": {
     "iopub.execute_input": "2023-06-14T05:25:07.894026Z",
     "iopub.status.busy": "2023-06-14T05:25:07.893515Z",
     "iopub.status.idle": "2023-06-14T05:25:08.288992Z",
     "shell.execute_reply": "2023-06-14T05:25:08.289408Z"
    }
   },
   "outputs": [],
   "source": [
    "onp.random.seed(123)\n",
    "tf.random.set_seed(123)\n",
    "key = random.PRNGKey(123)"
   ]
  },
  {
   "cell_type": "markdown",
   "metadata": {
    "collapsed": false
   },
   "source": [
    "Due to conflicts between JAX and TensorFlow we make sure that TensorFlow cannot \n",
    "see any GPU devices."
   ]
  },
  {
   "cell_type": "code",
   "execution_count": 3,
   "metadata": {
    "collapsed": false,
    "execution": {
     "iopub.execute_input": "2023-06-14T05:25:08.320405Z",
     "iopub.status.busy": "2023-06-14T05:25:08.319892Z",
     "iopub.status.idle": "2023-06-14T05:25:08.321355Z",
     "shell.execute_reply": "2023-06-14T05:25:08.321764Z"
    }
   },
   "outputs": [],
   "source": [
    "tf.config.set_visible_devices([], device_type=\"GPU\")"
   ]
  },
  {
   "cell_type": "markdown",
   "metadata": {
    "collapsed": false
   },
   "source": [
    "Now we continue by loading the data, setting hyper-parameters and rescaling the \n",
    "images from 32x32 to 112x112. The MobileNet architecture shows better \n",
    "performance with larger images. Then we also split the data and organize it \n",
    "into DataLoaders.\n",
    "\n",
    "We try to balance between a large and a small (mini-)batch size since a larger \n",
    "choice usually leads to more robust updates while a smaller one leads to faster \n",
    "computation, in our view a (mini-)batch size of 256 is suitable. \n",
    "We wish to go over the full dataset 200 times, thus we calculate how many \n",
    "iterations are necessary depending on the chosen (mini-)batch size (here 39000 \n",
    "iterations). We set the burn-in phase to cover 90% of the iterations and only \n",
    "consider samples from the final 10% of the iterations (here 35100 burn-in \n",
    "iterations). Here also thinning will be applied so that a fixed number of \n",
    "parameters is accepted - in our case 20 parameters are accepted.\n",
    "For the learning rate (step size) we start with 0.001 (common choice for deep \n",
    "learning models) and calculate a final learning rate with a decay of 0.33."
   ]
  },
  {
   "cell_type": "code",
   "execution_count": 4,
   "metadata": {
    "collapsed": false,
    "execution": {
     "iopub.execute_input": "2023-06-14T05:25:08.326042Z",
     "iopub.status.busy": "2023-06-14T05:25:08.325546Z",
     "iopub.status.idle": "2023-06-14T05:25:14.528484Z",
     "shell.execute_reply": "2023-06-14T05:25:14.528922Z"
    }
   },
   "outputs": [],
   "source": [
    "# Configuration parameters\n",
    "cached_batches = 10\n",
    "num_classes = 10\n",
    "\n",
    "# Load dataset\n",
    "(train_images, train_labels), (test_images, test_labels) = tf.keras.datasets.cifar10.load_data()\n",
    "\n",
    "# Rescaling images\n",
    "train_images = tf.image.resize(\n",
    "    train_images,\n",
    "    (112, 112),\n",
    "    method=tf.image.ResizeMethod.BILINEAR,\n",
    "    preserve_aspect_ratio=True\n",
    ")\n",
    "test_images = tf.image.resize(\n",
    "    test_images,\n",
    "    (112, 112),\n",
    "    method=tf.image.ResizeMethod.BILINEAR,\n",
    "    preserve_aspect_ratio=True\n",
    ")\n",
    "\n",
    "# Hyper-parameters\n",
    "batch_size = 256\n",
    "epochs = 200\n",
    "iterations_per_epoch = int(train_images.shape[0] / batch_size)\n",
    "iterations = epochs * iterations_per_epoch\n",
    "burn_in_size = (epochs - 20) * iterations_per_epoch\n",
    "lr_first = 0.001\n",
    "gamma = 0.33\n",
    "lr_last = lr_first * (iterations) ** (-gamma)\n",
    "accepted_samples = 20"
   ]
  },
  {
   "cell_type": "markdown",
   "metadata": {
    "collapsed": false
   },
   "source": [
    "Now we split the data. 50000, 5000 and 5000 images are used as training, \n",
    "validation and test datasets."
   ]
  },
  {
   "cell_type": "code",
   "execution_count": 5,
   "metadata": {
    "collapsed": false,
    "execution": {
     "iopub.execute_input": "2023-06-14T05:25:14.532498Z",
     "iopub.status.busy": "2023-06-14T05:25:14.531978Z",
     "iopub.status.idle": "2023-06-14T05:25:15.550594Z",
     "shell.execute_reply": "2023-06-14T05:25:15.551035Z"
    }
   },
   "outputs": [],
   "source": [
    "# Split data and organize into DataLoaders\n",
    "train_loader = NumpyDataLoader(image=train_images, label=onp.squeeze(train_labels))\n",
    "test_loader = NumpyDataLoader(image=test_images[:test_labels.shape[0] // 2, ::],\n",
    "                              label=test_labels[:test_labels.shape[0] // 2, :])\n",
    "val_loader = NumpyDataLoader(image=test_images[test_labels.shape[0] // 2:, ::],\n",
    "                             label=test_labels[test_labels.shape[0] // 2:, :])"
   ]
  },
  {
   "cell_type": "markdown",
   "metadata": {
    "collapsed": false
   },
   "source": [
    "Now we need to obtain an initial batch of data such that the neural network can \n",
    "be initialized with a batch. The `random_reference_data` function initialized \n",
    "data access and allows randomly drawing mini-batches; it returns functions for \n",
    "initialization of a new reference data state, for getting a minibatch from the \n",
    "data state and for releasing the DataLoader once all computations have been done."
   ]
  },
  {
   "cell_type": "code",
   "execution_count": 6,
   "metadata": {
    "collapsed": false,
    "execution": {
     "iopub.execute_input": "2023-06-14T05:25:15.555203Z",
     "iopub.status.busy": "2023-06-14T05:25:15.554701Z",
     "iopub.status.idle": "2023-06-14T05:25:16.628447Z",
     "shell.execute_reply": "2023-06-14T05:25:16.627958Z"
    },
    "pycharm": {
     "name": "#%%\n"
    }
   },
   "outputs": [],
   "source": [
    "# Initialize the random access to the training data\n",
    "train_batch_init, train_batch_get, _ = data.random_reference_data(\n",
    "  train_loader, cached_batches, batch_size)\n",
    "  \n",
    "init_train_data_state = train_batch_init()\n",
    "batch_state, batch_data = train_batch_get(init_train_data_state, information=True)\n",
    "init_batch, info_batch = batch_data\n",
    "\n",
    "# Do the same for the valdation and test data\n",
    "val_batch_init, val_batch_get, val_release = data.random_reference_data(\n",
    "  val_loader, cached_batches, batch_size)\n",
    "test_batch_init, test_batch_get, test_release = data.random_reference_data(\n",
    "  test_loader, cached_batches, batch_size)\n",
    "  \n",
    "val_init_state, val_init_batch = test_batch_get(\n",
    "  val_batch_init(), information=True)\n",
    "test_init_state, test_init_batch = test_batch_get(\n",
    "  test_batch_init(), information=True)"
   ]
  },
  {
   "cell_type": "markdown",
   "metadata": {
    "collapsed": false,
    "pycharm": {
     "name": "#%% md\n"
    }
   },
   "source": [
    "Now the MobileNet architecture can be defined using the Haiku syntax."
   ]
  },
  {
   "cell_type": "code",
   "execution_count": 7,
   "metadata": {
    "collapsed": false,
    "execution": {
     "iopub.execute_input": "2023-06-14T05:25:16.631650Z",
     "iopub.status.busy": "2023-06-14T05:25:16.629987Z",
     "iopub.status.idle": "2023-06-14T05:25:16.633500Z",
     "shell.execute_reply": "2023-06-14T05:25:16.633009Z"
    },
    "pycharm": {
     "name": "#%%\n"
    }
   },
   "outputs": [],
   "source": [
    "def init_mobilenet():\n",
    "  @hk.transform\n",
    "  def mobilenetv1(batch, is_training=True):\n",
    "    images = batch[\"image\"].astype(jnp.float32)\n",
    "    mobilenet = hk.nets.MobileNetV1(num_classes=num_classes, use_bn=False)\n",
    "    logits = mobilenet(images, is_training=is_training)\n",
    "    return logits\n",
    "  return mobilenetv1.init, mobilenetv1.apply"
   ]
  },
  {
   "cell_type": "code",
   "execution_count": 8,
   "metadata": {
    "collapsed": false,
    "execution": {
     "iopub.execute_input": "2023-06-14T05:25:16.640150Z",
     "iopub.status.busy": "2023-06-14T05:25:16.635007Z",
     "iopub.status.idle": "2023-06-14T05:25:28.273628Z",
     "shell.execute_reply": "2023-06-14T05:25:28.274079Z"
    },
    "pycharm": {
     "name": "#%%\n"
    }
   },
   "outputs": [],
   "source": [
    "init, apply_mobilenet = init_mobilenet()\n",
    "apply_mobilenet = jit(apply_mobilenet)\n",
    "init_params = init(key, init_batch)"
   ]
  },
  {
   "cell_type": "markdown",
   "metadata": {
    "collapsed": false,
    "pycharm": {
     "name": "#%% md\n"
    }
   },
   "source": [
    "At this we test whether we can apply the Mobilenet network to a minibatch of \n",
    "data and if the obtained logits make sense."
   ]
  },
  {
   "cell_type": "code",
   "execution_count": 9,
   "metadata": {
    "collapsed": false,
    "execution": {
     "iopub.execute_input": "2023-06-14T05:25:28.372598Z",
     "iopub.status.busy": "2023-06-14T05:25:28.352032Z",
     "iopub.status.idle": "2023-06-14T05:25:29.156961Z",
     "shell.execute_reply": "2023-06-14T05:25:29.157395Z"
    },
    "pycharm": {
     "name": "#%%\n"
    }
   },
   "outputs": [
    {
     "name": "stdout",
     "output_type": "stream",
     "text": [
      "[[ 2.64722737e-04  7.68832615e-06 -3.47102876e-04 ... -7.99813206e-05\n",
      "  -2.19641355e-04  4.75208333e-04]\n",
      " [ 1.75473673e-04  3.78734148e-06 -2.14029977e-04 ... -3.50231603e-05\n",
      "  -1.19152261e-04  2.93968478e-04]\n",
      " [ 1.11978923e-04 -2.58127366e-05 -1.80081799e-04 ... -2.90761418e-05\n",
      "  -7.82685966e-05  2.46878073e-04]\n",
      " ...\n",
      " [ 1.45877129e-04 -1.07945561e-05 -1.91932806e-04 ... -4.65796147e-05\n",
      "  -1.20243625e-04  2.87771982e-04]\n",
      " [ 2.50594225e-04  1.03299026e-05 -2.62956979e-04 ... -6.36904660e-05\n",
      "  -1.62467084e-04  3.73987947e-04]\n",
      " [ 2.51225487e-04  2.30743499e-05 -2.93478079e-04 ... -7.16412542e-05\n",
      "  -1.87586003e-04  3.73031915e-04]]\n"
     ]
    }
   ],
   "source": [
    "# Sanity-check prediction\n",
    "logits = apply_mobilenet(init_params, None, init_batch)\n",
    "print(logits)"
   ]
  },
  {
   "cell_type": "markdown",
   "metadata": {
    "collapsed": false,
    "pycharm": {
     "name": "#%% md\n"
    }
   },
   "source": [
    "Now we define the log-likelihood and log-prior.\n",
    "For multiclass classification the log-likelihood is the negative cross entropy.\n",
    "We set a log gaussian prior centered at 0 and with a standard deviation of 10 \n",
    "on the weights."
   ]
  },
  {
   "cell_type": "code",
   "execution_count": 10,
   "metadata": {
    "collapsed": false,
    "execution": {
     "iopub.execute_input": "2023-06-14T05:25:29.162076Z",
     "iopub.status.busy": "2023-06-14T05:25:29.161562Z",
     "iopub.status.idle": "2023-06-14T05:25:29.163603Z",
     "shell.execute_reply": "2023-06-14T05:25:29.163104Z"
    },
    "pycharm": {
     "name": "#%%\n"
    }
   },
   "outputs": [],
   "source": [
    "# Initialize potential with log-likelihood\n",
    "def log_likelihood(sample, observations):\n",
    "  logits = apply_mobilenet(sample[\"w\"], None, observations)\n",
    "  \n",
    "  # Log-likelihood is negative cross entropy\n",
    "  log_likelihood = -optax.softmax_cross_entropy_with_integer_labels(\n",
    "    logits, observations[\"label\"])\n",
    "    \n",
    "  return log_likelihood\n",
    "\n",
    "\n",
    "# Set gaussian prior\n",
    "prior_scale = 10.\n",
    "def log_gaussian_prior(sample):\n",
    "  prior_params = sample[\"w\"]\n",
    "  gaussian = partial(jscipy.stats.norm.logpdf, loc=0., scale=prior_scale)\n",
    "  priors = tree_map(gaussian, prior_params)\n",
    "  return tree_math.Vector(priors).sum()"
   ]
  },
  {
   "cell_type": "markdown",
   "metadata": {
    "collapsed": false,
    "pycharm": {
     "name": "#%% md\n"
    }
   },
   "source": [
    "We have defined the log-likelihood to accept a batch of data, and we take care \n",
    "to set the `is_batched=True` when calling `minibatch_potential`.\n",
    "\n",
    "We want to sample the neural network parameters; we denote them as `'w'` and use\n",
    "the initial parameters as a starting sample."
   ]
  },
  {
   "cell_type": "code",
   "execution_count": 11,
   "metadata": {
    "collapsed": false,
    "execution": {
     "iopub.execute_input": "2023-06-14T05:25:29.167147Z",
     "iopub.status.busy": "2023-06-14T05:25:29.165134Z",
     "iopub.status.idle": "2023-06-14T05:25:36.729652Z",
     "shell.execute_reply": "2023-06-14T05:25:36.729218Z"
    },
    "pycharm": {
     "name": "#%%\n"
    }
   },
   "outputs": [],
   "source": [
    "potential_fn = potential.minibatch_potential(prior=log_gaussian_prior,\n",
    "                                             likelihood=log_likelihood,\n",
    "                                             is_batched=True,\n",
    "                                             strategy='vmap')\n",
    "\n",
    "# Define sample (of model parameters)\n",
    "sample = {\"w\": init_params}\n",
    "\n",
    "# Sanity-check likelihoods\n",
    "_, returned_likelihoods = potential_fn(sample, batch_data, likelihoods=True)"
   ]
  },
  {
   "cell_type": "markdown",
   "metadata": {
    "collapsed": false,
    "pycharm": {
     "name": "#%% md\n"
    }
   },
   "source": [
    "Now we use the `alias.py` module to set up a \n",
    "[pSGLD sampler with an RMSProp preconditioner](https://arxiv.org/abs/1512.07666).\n",
    "The potential function, DataLoader for training, and a set of hyperparameters\n",
    "need to be passed in order to initialize the sampler.\n",
    "In this case a polynomial step size scheduler is used to control the learning\n",
    "rate and thinning is applied to accept only a fixed number of parameters."
   ]
  },
  {
   "cell_type": "code",
   "execution_count": 12,
   "metadata": {
    "collapsed": false,
    "execution": {
     "iopub.execute_input": "2023-06-14T05:25:36.733361Z",
     "iopub.status.busy": "2023-06-14T05:25:36.732846Z",
     "iopub.status.idle": "2023-06-14T05:25:36.737077Z",
     "shell.execute_reply": "2023-06-14T05:25:36.736598Z"
    },
    "pycharm": {
     "name": "#%%\n"
    }
   },
   "outputs": [],
   "source": [
    "# Create pSGLD sampler (with RMSProp preconditioner)\n",
    "sampler = alias.sgld(potential_fn=potential_fn,\n",
    "                     data_loader=train_loader,\n",
    "                     cache_size=cached_batches,\n",
    "                     batch_size=batch_size,\n",
    "                     first_step_size=lr_first,\n",
    "                     last_step_size=lr_last,\n",
    "                     burn_in=burn_in_size,\n",
    "                     accepted_samples=accepted_samples,\n",
    "                     rms_prop=True,\n",
    "                     progress_bar=True)"
   ]
  },
  {
   "cell_type": "markdown",
   "metadata": {
    "collapsed": false,
    "pycharm": {
     "name": "#%% md\n"
    }
   },
   "source": [
    "The sampler can now be used to sample parameters.\n",
    "We provide the number of iterations and run the MCMC sampling algorithm.\n",
    "We take the first (and only) chain indexed by `[0]` and from this we obtain the\n",
    "sampled variables."
   ]
  },
  {
   "cell_type": "code",
   "execution_count": 13,
   "metadata": {
    "collapsed": false,
    "execution": {
     "iopub.execute_input": "2023-06-14T05:25:36.742965Z",
     "iopub.status.busy": "2023-06-14T05:25:36.742452Z",
     "iopub.status.idle": "2023-06-14T09:22:41.605884Z",
     "shell.execute_reply": "2023-06-14T09:22:41.606325Z"
    },
    "pycharm": {
     "name": "#%%\n"
    }
   },
   "outputs": [
    {
     "name": "stderr",
     "output_type": "stream",
     "text": [
      "/home/student/ana/venv38/lib/python3.8/site-packages/jax/_src/numpy/lax_numpy.py:173: UserWarning: Explicitly requested dtype int64 requested in asarray is not available, and will be truncated to dtype int32. To enable more dtypes, set the jax_enable_x64 configuration option or the JAX_ENABLE_X64 shell environment variable. See https://github.com/google/jax#current-gotchas for more.\n",
      "  return asarray(x, dtype=self.dtype)\n"
     ]
    },
    {
     "name": "stderr",
     "output_type": "stream",
     "text": [
      "2023-06-14 07:25:45.187164: W external/org_tensorflow/tensorflow/compiler/xla/service/gpu/gpu_conv_algorithm_picker.cc:825] None of the algorithms provided by cuDNN heuristics worked; trying fallback algorithms.  Conv: (f32[1,32,3,3]{3,2,1,0}, u8[0]{0}) custom-call(f32[1,8192,55,55]{3,2,1,0}, f32[32,256,55,55]{3,2,1,0}, f32[32]{0}, f32[1,32,3,3]{3,2,1,0}), window={size=55x55 pad=1_1x1_1}, dim_labels=bf01_oi01->bf01, feature_group_count=32, custom_call_target=\"__cudnn$convBiasActivationForward\", backend_config=\"{\\\"conv_result_scale\\\":1,\\\"activation_mode\\\":\\\"0\\\",\\\"side_input_scale\\\":0.0099999997764825821}\"\n"
     ]
    },
    {
     "name": "stderr",
     "output_type": "stream",
     "text": [
      "2023-06-14 07:25:46.726398: W external/org_tensorflow/tensorflow/compiler/xla/service/gpu/gpu_conv_algorithm_picker.cc:825] None of the algorithms provided by cuDNN heuristics worked; trying fallback algorithms.  Conv: (f32[1,64,3,3]{3,2,1,0}, u8[0]{0}) custom-call(f32[1,16384,55,55]{3,2,1,0}, f32[64,256,55,55]{3,2,1,0}, f32[64]{0}, f32[1,64,3,3]{3,2,1,0}), window={size=55x55 pad=1_1x1_1}, dim_labels=bf01_oi01->bf01, feature_group_count=64, custom_call_target=\"__cudnn$convBiasActivationForward\", backend_config=\"{\\\"conv_result_scale\\\":1,\\\"activation_mode\\\":\\\"0\\\",\\\"side_input_scale\\\":0.0099999997764825821}\"\n"
     ]
    },
    {
     "name": "stderr",
     "output_type": "stream",
     "text": [
      "2023-06-14 07:25:49.204332: W external/org_tensorflow/tensorflow/compiler/xla/service/gpu/gpu_conv_algorithm_picker.cc:825] None of the algorithms provided by cuDNN heuristics worked; trying fallback algorithms.  Conv: (f32[1,512,3,3]{3,2,1,0}, u8[0]{0}) custom-call(f32[1,131072,7,7]{3,2,1,0}, f32[512,256,7,7]{3,2,1,0}, f32[512]{0}, f32[1,512,3,3]{3,2,1,0}), window={size=7x7 pad=1_1x1_1}, dim_labels=bf01_oi01->bf01, feature_group_count=512, custom_call_target=\"__cudnn$convBiasActivationForward\", backend_config=\"{\\\"conv_result_scale\\\":1,\\\"activation_mode\\\":\\\"0\\\",\\\"side_input_scale\\\":0.0099999997764825821}\"\n"
     ]
    },
    {
     "name": "stderr",
     "output_type": "stream",
     "text": [
      "2023-06-14 07:25:49.545875: W external/org_tensorflow/tensorflow/compiler/xla/service/gpu/gpu_conv_algorithm_picker.cc:825] None of the algorithms provided by cuDNN heuristics worked; trying fallback algorithms.  Conv: (f32[1,1024,3,3]{3,2,1,0}, u8[0]{0}) custom-call(f32[1,262144,4,4]{3,2,1,0}, f32[1024,256,4,4]{3,2,1,0}, f32[1024]{0}, f32[1,1024,3,3]{3,2,1,0}), window={size=4x4 pad=1_1x1_1}, dim_labels=bf01_oi01->bf01, feature_group_count=1024, custom_call_target=\"__cudnn$convBiasActivationForward\", backend_config=\"{\\\"conv_result_scale\\\":1,\\\"activation_mode\\\":\\\"0\\\",\\\"side_input_scale\\\":0.0099999997764825821}\"\n"
     ]
    },
    {
     "name": "stderr",
     "output_type": "stream",
     "text": [
      "2023-06-14 07:25:49.874141: W external/org_tensorflow/tensorflow/compiler/xla/service/gpu/gpu_conv_algorithm_picker.cc:825] None of the algorithms provided by cuDNN heuristics worked; trying fallback algorithms.  Conv: (f32[1,128,3,3]{3,2,1,0}, u8[0]{0}) custom-call(f32[1,32768,28,28]{3,2,1,0}, f32[128,256,28,28]{3,2,1,0}, f32[128]{0}, f32[1,128,3,3]{3,2,1,0}), window={size=28x28 pad=1_1x1_1}, dim_labels=bf01_oi01->bf01, feature_group_count=128, custom_call_target=\"__cudnn$convBiasActivationForward\", backend_config=\"{\\\"conv_result_scale\\\":1,\\\"activation_mode\\\":\\\"0\\\",\\\"side_input_scale\\\":0.0099999997764825821}\"\n"
     ]
    },
    {
     "name": "stderr",
     "output_type": "stream",
     "text": [
      "2023-06-14 07:25:51.279525: W external/org_tensorflow/tensorflow/compiler/xla/service/gpu/gpu_conv_algorithm_picker.cc:825] None of the algorithms provided by cuDNN heuristics worked; trying fallback algorithms.  Conv: (f32[1,128,3,3]{3,2,1,0}, u8[0]{0}) custom-call(f32[1,32768,29,29]{3,2,1,0}, f32[128,256,27,27]{3,2,1,0}, f32[128]{0}, f32[1,128,3,3]{3,2,1,0}), window={size=27x27}, dim_labels=bf01_oi01->bf01, feature_group_count=128, custom_call_target=\"__cudnn$convBiasActivationForward\", backend_config=\"{\\\"conv_result_scale\\\":1,\\\"activation_mode\\\":\\\"0\\\",\\\"side_input_scale\\\":0.0099999997764825821}\"\n"
     ]
    },
    {
     "name": "stdout",
     "output_type": "stream",
     "text": [
      "[Step 0/39000](0%) Collected 0 of 20 samples...\n"
     ]
    },
    {
     "name": "stdout",
     "output_type": "stream",
     "text": [
      "[Step 1950/39000](5%) Collected 0 of 20 samples...\n"
     ]
    },
    {
     "name": "stdout",
     "output_type": "stream",
     "text": [
      "[Step 3900/39000](10%) Collected 0 of 20 samples...\n"
     ]
    },
    {
     "name": "stdout",
     "output_type": "stream",
     "text": [
      "[Step 5850/39000](15%) Collected 0 of 20 samples...\n"
     ]
    },
    {
     "name": "stdout",
     "output_type": "stream",
     "text": [
      "[Step 7800/39000](20%) Collected 0 of 20 samples...\n"
     ]
    },
    {
     "name": "stdout",
     "output_type": "stream",
     "text": [
      "[Step 9750/39000](25%) Collected 0 of 20 samples...\n"
     ]
    },
    {
     "name": "stdout",
     "output_type": "stream",
     "text": [
      "[Step 11700/39000](30%) Collected 0 of 20 samples...\n"
     ]
    },
    {
     "name": "stdout",
     "output_type": "stream",
     "text": [
      "[Step 13650/39000](35%) Collected 0 of 20 samples...\n"
     ]
    },
    {
     "name": "stdout",
     "output_type": "stream",
     "text": [
      "[Step 15600/39000](40%) Collected 0 of 20 samples...\n"
     ]
    },
    {
     "name": "stdout",
     "output_type": "stream",
     "text": [
      "[Step 17550/39000](45%) Collected 0 of 20 samples...\n"
     ]
    },
    {
     "name": "stdout",
     "output_type": "stream",
     "text": [
      "[Step 19500/39000](50%) Collected 0 of 20 samples...\n"
     ]
    },
    {
     "name": "stdout",
     "output_type": "stream",
     "text": [
      "[Step 21450/39000](55%) Collected 0 of 20 samples...\n"
     ]
    },
    {
     "name": "stdout",
     "output_type": "stream",
     "text": [
      "[Step 23400/39000](60%) Collected 0 of 20 samples...\n"
     ]
    },
    {
     "name": "stdout",
     "output_type": "stream",
     "text": [
      "[Step 25350/39000](65%) Collected 0 of 20 samples...\n"
     ]
    },
    {
     "name": "stdout",
     "output_type": "stream",
     "text": [
      "[Step 27300/39000](70%) Collected 0 of 20 samples...\n"
     ]
    },
    {
     "name": "stdout",
     "output_type": "stream",
     "text": [
      "[Step 29250/39000](75%) Collected 0 of 20 samples...\n"
     ]
    },
    {
     "name": "stdout",
     "output_type": "stream",
     "text": [
      "[Step 31200/39000](80%) Collected 0 of 20 samples...\n"
     ]
    },
    {
     "name": "stdout",
     "output_type": "stream",
     "text": [
      "[Step 33150/39000](85%) Collected 0 of 20 samples...\n"
     ]
    },
    {
     "name": "stdout",
     "output_type": "stream",
     "text": [
      "[Step 35100/39000](90%) Collected 0 of 20 samples...\n"
     ]
    },
    {
     "name": "stdout",
     "output_type": "stream",
     "text": [
      "[Step 37050/39000](95%) Collected 8 of 20 samples...\n"
     ]
    }
   ],
   "source": [
    "# Perform sampling\n",
    "results = sampler(sample, iterations=iterations)\n",
    "results = results[0]['samples']['variables']"
   ]
  },
  {
   "cell_type": "markdown",
   "metadata": {
    "collapsed": false,
    "pycharm": {
     "name": "#%% md\n"
    }
   },
   "source": [
    "Now the obtained samples provide 20 neural networks which we wish to evaluate.\n",
    "We define a function which performs the evaluation.\n",
    "Within this function we use the `full_data_mapper` from _JaxSGMC_ to map over\n",
    "the full dataset (either training, validation or test dataset - depending on the \n",
    "evaluation settings) in batches of 1000 images. \n",
    "To do this, we define also the `fetch_logits` function which takes the \n",
    "parameters (current sample) and applies a neural network with these parameters \n",
    "on a batch of data and returns the predictions (logits).\n",
    "Then we collect the logits for the full dataset and for each neural network.\n",
    "\n",
    "Then we proceed with an aggregation of the ensemble results.\n",
    "Two common approaches are taken here: hard voting and soft voting \n",
    "(also known as hard and soft aggregation).\n",
    "For hard voting the logits are used to predict a class and then the class \n",
    "predicted by the majority is taken as the ensemble prediction.\n",
    "In the case of soft voting the logits are converted to probabilities and the\n",
    "mean of all ensemble members is taken - the class with the highest mean\n",
    "probability is then chosen as the ensemble prediction.\n",
    "This is similar to [sklearn.ensemble.VotingClassifier](https://scikit-learn.org/stable/modules/generated/sklearn.ensemble.VotingClassifier.html).\n",
    "\n",
    "Furthermore, we are interested in investigating if ensemble certainty correlates\n",
    "with higher accuracy.\n",
    "We calculate the ensemble certainty as a measure of agreement among the members;\n",
    "we set the certainty to be the ration of the number of members in the majority \n",
    "and all members - if all members predict the same class then the certainty is 100%.\n",
    "Here we calculate the accuracies where the certainty is >= 50%, 60%, 70%, 80%, 90% and 100%.\n",
    "\n",
    "Finally, we observe how the ensemble predictions provide a gateway to UQ when\n",
    "making individual predictions.\n",
    "We take five images drawn at random from the dataset and plot the predicted\n",
    "probabilities as box-plots. This gives an insight into the uncertainty in the\n",
    "prediction."
   ]
  },
  {
   "cell_type": "code",
   "execution_count": 14,
   "metadata": {
    "collapsed": false,
    "execution": {
     "iopub.execute_input": "2023-06-14T09:22:41.619336Z",
     "iopub.status.busy": "2023-06-14T09:22:41.618757Z",
     "iopub.status.idle": "2023-06-14T09:22:41.620812Z",
     "shell.execute_reply": "2023-06-14T09:22:41.620358Z"
    },
    "pycharm": {
     "name": "#%%\n"
    }
   },
   "outputs": [],
   "source": [
    "# This function get the logits for a batch of images\n",
    "def fetch_logits(batch, mask, carry, params=None):\n",
    "  temp_logits = apply_mobilenet(params, None, batch, is_training=False)\n",
    "  return temp_logits, carry + 1\n",
    "  \n",
    "# Helper function to evaluate the accuracy for predictions which are more\n",
    "# certain than a given threshold \n",
    "def threshold_accuracy(hard_class_pred, certainty, labels, certainty_threshold):\n",
    "  # Get the predictions with certainty above the threshold\n",
    "  selected = onp.asarray(certainty >= certainty_threshold)\n",
    "  sel_hard_pred = hard_class_pred[selected]\n",
    "  sel_labels = onp.squeeze(labels[selected])\n",
    "  return onp.sum(sel_hard_pred == sel_labels) / onp.sum(selected)\n",
    "\n",
    "def evaluate_model(results, loader, evaluation=\"hard\", dataset=\"training\"):\n",
    "  # The full_data_mapper can apply the fetch_logits function to get the logits\n",
    "  # for all images in the test, validation or training set\n",
    "  my_parameter_mapper, sth_to_remove = data.full_data_mapper(loader, 1, 1000)\n",
    "\n",
    "  # Prepare arrays to store the logits obtained for different neural network\n",
    "  # parameters \n",
    "  if dataset == \"validation\" or dataset == \"test\":\n",
    "    logits_all = onp.empty(\n",
    "      (accepted_samples, test_labels.shape[0] // 2, num_classes))\n",
    "  else:\n",
    "    logits_all = onp.empty(\n",
    "      (accepted_samples, train_labels.shape[0], num_classes))\n",
    "  \n",
    "  # Go over sampled parameters (NNs)\n",
    "  for j in range(accepted_samples):\n",
    "    params = tree_map(lambda x: jnp.array(x[j]), results['w'])\n",
    "    # Collect logits\n",
    "    out, _ = my_parameter_mapper(\n",
    "     partial(fetch_logits, params=params), 0, masking=True)\n",
    "    logits_all[j, :, :] = out.reshape(-1, 10)\n",
    "\n",
    "  # We now investigate the logits using the hard voting or soft voting approach.\n",
    "  # Hard-voting: obtain predicted class labels from each model and use the most \n",
    "  # frequently predicted class\n",
    "  if evaluation == \"hard\":\n",
    "    class_predictions = onp.argmax(logits_all, axis=-1)\n",
    "    hard_class_predictions = onp.apply_along_axis(\n",
    "      lambda x: onp.bincount(x, minlength=10).argmax(), 0, class_predictions)\n",
    "      \n",
    "    if dataset == \"validation\":\n",
    "      accuracy = sum(\n",
    "        hard_class_predictions == onp.squeeze(test_labels[test_labels.shape[0] // 2:, :]))\n",
    "      accuracy /= (test_labels.shape[0] // 2)\n",
    "    elif dataset == \"test\":\n",
    "      accuracy = sum(\n",
    "        hard_class_predictions == onp.squeeze(test_labels[:test_labels.shape[0] // 2, :]))\n",
    "      accuracy /= (test_labels.shape[0] // 2)\n",
    "    else:\n",
    "      accuracy = sum(\n",
    "        hard_class_predictions == onp.squeeze(train_labels))\n",
    "      accuracy /= float(train_labels.shape[0])\n",
    "\n",
    "    # Calculating certainty (per image)\n",
    "    certainty = onp.count_nonzero(\n",
    "      class_predictions == hard_class_predictions, axis=0)\n",
    "    certainty = certainty / accepted_samples\n",
    "\n",
    "    # Evaluating accuracy when certainty is above a fixed threshold\n",
    "    accuracy_over_certainty = []\n",
    "    for threshold in onp.linspace(0.5, 1.0, 6):\n",
    "      # Select the correct labels\n",
    "      if dataset == \"validation\":\n",
    "        labels = test_labels[test_labels.shape[0] // 2:, :]\n",
    "      elif dataset == \"test\":\n",
    "        labels = test_labels[:test_labels.shape[0] // 2, :]\n",
    "      else:\n",
    "        labels = train_labels\n",
    "        \n",
    "      # Calculate the thresholded accuracy for the correct labels and transform\n",
    "      # into %\n",
    "      accuracy_over_certainty.append(\n",
    "        100 * threshold_accuracy(\n",
    "          hard_class_predictions, certainty, labels, threshold)\n",
    "      )\n",
    "    \n",
    "    # Print the statistics on hard voting\n",
    "    mode = (\n",
    "      (dataset == \"training\") * \"Training\" \n",
    "      + (dataset == \"validation\") * \"Validation\"\n",
    "      + (dataset == \"test\") * \"Test\"\n",
    "    )\n",
    "    print(f\"{mode} Hard-Voting Accuracy: {accuracy * 100 :.2f} %\\n\"\n",
    "          f\"\\tHard-Voting Accuracy-Over-Certainty: {accuracy_over_certainty} %\")\n",
    "\n",
    "  # Soft-voting: obtain predicted probabilities from each model and use the mean\n",
    "  # of these probabilities to pick a class. The logits are the log-probability\n",
    "  # that a sample belongs to a class.\n",
    "  probabilities = onp.exp(logits_all)\n",
    "  mean_probabilities = onp.mean(probabilities, axis=0)\n",
    "  soft_class_predictions = onp.argmax(mean_probabilities, axis=-1)\n",
    "  \n",
    "  # Select the correct labels and draw trial images from the respective sets\n",
    "  if dataset == \"validation\":\n",
    "    labels = test_labels[test_labels.shape[0] // 2:, :]\n",
    "    random_samples = onp.random.randint(0, test_labels.shape[0] // 2 - 1, 5)\n",
    "  elif dataset == \"test\":\n",
    "    labels = test_labels[:test_labels.shape[0] // 2, :]\n",
    "    random_samples = onp.random.randint(0, test_labels.shape[0] // 2 - 1, 5)\n",
    "  else:\n",
    "    labels = train_labels\n",
    "    random_samples = onp.random.randint(0, train_labels.shape[0] - 1, 5)\n",
    "  \n",
    "  accuracy = sum(soft_class_predictions == onp.squeeze(labels))\n",
    "  accuracy = accuracy / labels.shape[0]\n",
    "  \n",
    "  # Print the statistics on hard voting\n",
    "  print(f\"{mode} Soft-Voting Accuracy: {accuracy * 100 :.2f} %\")\n",
    "\n",
    "  # Plotting the five randomly chosen images\n",
    "  fig, ax = plt.subplots(1, 5, figsize=(10.8, 5))\n",
    "  for i in range(len(random_samples)):\n",
    "    ax[i].boxplot(probabilities[:, random_samples[i], :])\n",
    "    ax[i].set_title(\"Image \" + str(random_samples[i]))\n",
    "    ax[i].set_xticks(list(range(1, 11)), [str(i) for i in range(10)])\n",
    "  fig.tight_layout(pad=0.2)\n",
    "  plt.show()"
   ]
  },
  {
   "cell_type": "markdown",
   "metadata": {
    "collapsed": false
   },
   "source": [
    "We perform evaluation for the training, validation and test set separately."
   ]
  },
  {
   "cell_type": "code",
   "execution_count": 15,
   "metadata": {
    "collapsed": false,
    "execution": {
     "iopub.execute_input": "2023-06-14T09:22:41.624171Z",
     "iopub.status.busy": "2023-06-14T09:22:41.623645Z",
     "iopub.status.idle": "2023-06-14T09:26:00.672536Z",
     "shell.execute_reply": "2023-06-14T09:26:00.672051Z"
    }
   },
   "outputs": [
    {
     "name": "stdout",
     "output_type": "stream",
     "text": [
      "Training Hard-Voting Accuracy: 68.93 %\n",
      "\tHard-Voting Accuracy-Over-Certainty: [71.204653622422, 74.70566073278704, 78.35263904122415, 81.80782260548199, 85.53918854062834, 90.21852237252862] %\n"
     ]
    },
    {
     "name": "stderr",
     "output_type": "stream",
     "text": [
      "/tmp/ipykernel_129283/1983561449.py:93: RuntimeWarning: overflow encountered in exp\n",
      "  probabilities = onp.exp(logits_all)\n"
     ]
    },
    {
     "name": "stdout",
     "output_type": "stream",
     "text": [
      "Training Soft-Voting Accuracy: 68.68 %\n"
     ]
    },
    {
     "data": {
      "image/png": "[encoded data removed]",
      "text/plain": [
       "<Figure size 777.6x360 with 5 Axes>"
      ]
     },
     "metadata": {
      "needs_background": "light"
     },
     "output_type": "display_data"
    },
    {
     "name": "stdout",
     "output_type": "stream",
     "text": [
      "Validation Hard-Voting Accuracy: 56.88 %\n",
      "\tHard-Voting Accuracy-Over-Certainty: [58.370276546337344, 61.33934932320114, 64.46438281674823, 68.0050987890376, 71.34169517293805, 76.76712328767124] %\n",
      "Validation Soft-Voting Accuracy: 56.96 %\n"
     ]
    },
    {
     "name": "stderr",
     "output_type": "stream",
     "text": [
      "/tmp/ipykernel_129283/1983561449.py:93: RuntimeWarning: overflow encountered in exp\n",
      "  probabilities = onp.exp(logits_all)\n"
     ]
    },
    {
     "data": {
      "image/png": "[encoded data removed]",
      "text/plain": [
       "<Figure size 777.6x360 with 5 Axes>"
      ]
     },
     "metadata": {
      "needs_background": "light"
     },
     "output_type": "display_data"
    },
    {
     "name": "stdout",
     "output_type": "stream",
     "text": [
      "Test Hard-Voting Accuracy: 57.48 %\n",
      "\tHard-Voting Accuracy-Over-Certainty: [59.68152866242038, 62.391355414611226, 65.88520614389653, 69.17057902973396, 73.64429275692075, 80.10666666666667] %\n",
      "Test Soft-Voting Accuracy: 57.50 %\n"
     ]
    },
    {
     "name": "stderr",
     "output_type": "stream",
     "text": [
      "/tmp/ipykernel_129283/1983561449.py:93: RuntimeWarning: overflow encountered in exp\n",
      "  probabilities = onp.exp(logits_all)\n"
     ]
    },
    {
     "data": {
      "image/png": "[encoded data removed]",
      "text/plain": [
       "<Figure size 777.6x360 with 5 Axes>"
      ]
     },
     "metadata": {
      "needs_background": "light"
     },
     "output_type": "display_data"
    }
   ],
   "source": [
    "# Model evaluation\n",
    "evaluate_model(results, train_loader, dataset=\"training\")\n",
    "evaluate_model(results, val_loader, dataset=\"validation\")\n",
    "evaluate_model(results, test_loader, dataset=\"test\")"
   ]
  }
 ],
 "metadata": {
  "kernelspec": {
   "display_name": "Python 3",
   "language": "python",
   "name": "python3"
  },
  "language_info": {
   "codemirror_mode": {
    "name": "ipython",
    "version": 3
   },
   "file_extension": ".py",
   "mimetype": "text/x-python",
   "name": "python",
   "nbconvert_exporter": "python",
   "pygments_lexer": "ipython3",
   "version": "3.8.12"
  }
 },
 "nbformat": 4,
 "nbformat_minor": 0
}
